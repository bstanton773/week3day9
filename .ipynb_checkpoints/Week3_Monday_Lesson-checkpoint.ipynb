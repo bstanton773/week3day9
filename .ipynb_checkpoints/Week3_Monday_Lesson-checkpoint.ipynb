{
 "cells": [
  {
   "cell_type": "markdown",
   "metadata": {},
   "source": [
    "# Object-Oriented-Programming (OOP)"
   ]
  },
  {
   "cell_type": "markdown",
   "metadata": {},
   "source": [
    "## Tasks Today:\n",
    "\n",
    "1) <b>Creating Multiple Instances Through Loops</b> <br>\n",
    " &nbsp;&nbsp;&nbsp;&nbsp; a) Using Loops <br>\n",
    " &nbsp;&nbsp;&nbsp;&nbsp; b) Using Multiple Lists with Loops <br>\n",
    " &nbsp;&nbsp;&nbsp;&nbsp; c) Using List Comprehension with Classes<br>\n",
    " &nbsp;&nbsp;&nbsp;&nbsp; d) In-Class Exercise #1 <br>\n",
    "2) <b>Magic Methods</b> <br>\n",
    " &nbsp;&nbsp;&nbsp;&nbsp; a) \\__str\\__ <br>\n",
    " &nbsp;&nbsp;&nbsp;&nbsp; b) \\__repr\\__ <br>\n",
    " &nbsp;&nbsp;&nbsp;&nbsp; c) Overriding Magic Methods <br>\n",
    " &nbsp;&nbsp;&nbsp;&nbsp; d) In-Class Exercise #2 <br>\n",
    "3) <b>Inheritance & Method Overriding (recap)</b> <br>\n",
    " &nbsp;&nbsp;&nbsp;&nbsp; a) Inheriting (recap)  <br>\n",
    " &nbsp;&nbsp;&nbsp;&nbsp; b) Overriding Inherited Magic Methods <br>\n",
    " &nbsp;&nbsp;&nbsp;&nbsp; c) Inheriting Multiple Classes <br>\n",
    " &nbsp;&nbsp;&nbsp;&nbsp; d) In-Class Exercise #3 <br>"
   ]
  },
  {
   "cell_type": "markdown",
   "metadata": {},
   "source": [
    "## Creating Multiple Instances Through Loops <br>\n",
    "<p>We can use loops to create multiple instances of a single object in just a couple of lines, even just one line.</p>"
   ]
  },
  {
   "cell_type": "markdown",
   "metadata": {},
   "source": [
    "#### Using Loops"
   ]
  },
  {
   "cell_type": "code",
   "execution_count": 10,
   "metadata": {},
   "outputs": [],
   "source": [
    "class Dog:\n",
    "    def __init__(self, legs):\n",
    "        self.legs = legs\n",
    "        \n",
    "    def bark(self):\n",
    "        print(\"woof\")\n",
    "        \n",
    "    def getNumLegs(self):\n",
    "        print(f\"I have {self.legs} legs\")\n",
    "    \n",
    "    def setNumLegs(self, num):\n",
    "        self.legs = num"
   ]
  },
  {
   "cell_type": "code",
   "execution_count": 11,
   "metadata": {},
   "outputs": [
    {
     "name": "stdout",
     "output_type": "stream",
     "text": [
      "I have 4 legs\n"
     ]
    }
   ],
   "source": [
    "dog = Dog(4)\n",
    "dog.getNumLegs()"
   ]
  },
  {
   "cell_type": "code",
   "execution_count": 12,
   "metadata": {},
   "outputs": [
    {
     "name": "stdout",
     "output_type": "stream",
     "text": [
      "I have 2 legs\n"
     ]
    }
   ],
   "source": [
    "dog.setNumLegs(2)\n",
    "dog.getNumLegs()"
   ]
  },
  {
   "cell_type": "code",
   "execution_count": 15,
   "metadata": {},
   "outputs": [
    {
     "data": {
      "text/plain": [
       "[<__main__.Dog at 0x7f877d259550>,\n",
       " <__main__.Dog at 0x7f877d2592e0>,\n",
       " <__main__.Dog at 0x7f877d259af0>,\n",
       " <__main__.Dog at 0x7f877d259520>,\n",
       " <__main__.Dog at 0x7f877d259e20>]"
      ]
     },
     "execution_count": 15,
     "metadata": {},
     "output_type": "execute_result"
    }
   ],
   "source": [
    "# list of objects to be held\n",
    "my_dogs = []\n",
    "\n",
    "# loop to create multiple instances of Dog\n",
    "for i in range(5):\n",
    "    my_dogs.append(Dog(i))\n",
    "\n",
    "my_dogs"
   ]
  },
  {
   "cell_type": "code",
   "execution_count": 19,
   "metadata": {},
   "outputs": [
    {
     "name": "stdout",
     "output_type": "stream",
     "text": [
      "I have 0 legs\n",
      "woof\n",
      "I have 1 legs\n",
      "woof\n",
      "I have 2 legs\n",
      "woof\n",
      "I have 3 legs\n",
      "woof\n",
      "I have 4 legs\n",
      "woof\n"
     ]
    }
   ],
   "source": [
    "# print out the numes of legs for each dog\n",
    "for dog in my_dogs:\n",
    "    dog.getNumLegs()\n",
    "    dog.bark()"
   ]
  },
  {
   "cell_type": "markdown",
   "metadata": {},
   "source": [
    "#### Using Multiple Lists with Loops"
   ]
  },
  {
   "cell_type": "code",
   "execution_count": 70,
   "metadata": {},
   "outputs": [],
   "source": [
    "class Dog:\n",
    "    def __init__(self, name, color):\n",
    "        self.name = name.title()\n",
    "        self.color = color\n",
    "        \n",
    "    def bark(self):\n",
    "        print(\"woof\")\n",
    "        \n",
    "    def getNumLegs(self):\n",
    "        print(f\"I have {self.legs} legs\")\n",
    "    \n",
    "    def setNumLegs(self, num):\n",
    "        self.legs = num\n",
    "        \n",
    "    def printInfo(self):\n",
    "        return print(f\"{self.name} has {self.color} fur\")\n",
    "    \n",
    "    def __repr__(self):\n",
    "        return f\"<Dog: {self.name}>\"\n",
    "    \n"
   ]
  },
  {
   "cell_type": "code",
   "execution_count": 71,
   "metadata": {},
   "outputs": [],
   "source": [
    "names = ['max', 'buddy', 'spot', 'clifford']\n",
    "colors = ['yellow', 'green', 'pink', 'red']"
   ]
  },
  {
   "cell_type": "code",
   "execution_count": 72,
   "metadata": {},
   "outputs": [
    {
     "data": {
      "text/plain": [
       "[<Dog: Max>, <Dog: Buddy>, <Dog: Spot>, <Dog: Clifford>]"
      ]
     },
     "execution_count": 72,
     "metadata": {},
     "output_type": "execute_result"
    }
   ],
   "source": [
    "[Dog(name,color) for name,color in zip(names, colors)]"
   ]
  },
  {
   "cell_type": "code",
   "execution_count": 54,
   "metadata": {
    "scrolled": true
   },
   "outputs": [
    {
     "name": "stdout",
     "output_type": "stream",
     "text": [
      "Max has yellow fur\n",
      "Buddy has green fur\n",
      "Spot has pink fur\n",
      "Clifford has red fur\n"
     ]
    }
   ],
   "source": [
    "myDogs = []\n",
    "for i in range(len(names)):\n",
    "    myDogs.append(Dog(names[i], colors[i]))\n",
    "\n",
    "# myDogs\n",
    "for dog in myDogs:\n",
    "    dog.printInfo()"
   ]
  },
  {
   "cell_type": "code",
   "execution_count": 61,
   "metadata": {},
   "outputs": [
    {
     "name": "stdout",
     "output_type": "stream",
     "text": [
      "99 A\n",
      "98 B\n",
      "97 C\n",
      "96 D\n",
      "95 E\n"
     ]
    }
   ],
   "source": [
    "numsList = [99, 98, 97, 96, 95]\n",
    "strsList = [\"A\", \"B\", \"C\", \"D\", \"E\"]\n",
    "\n",
    "for i, v in zip(numsList, strsList):\n",
    "    print(i, v)"
   ]
  },
  {
   "cell_type": "code",
   "execution_count": 65,
   "metadata": {},
   "outputs": [
    {
     "data": {
      "text/plain": [
       "[(99, 'A'), (98, 'B'), (97, 'C'), (96, 'D'), (95, 'E')]"
      ]
     },
     "execution_count": 65,
     "metadata": {},
     "output_type": "execute_result"
    }
   ],
   "source": [
    "[(i,v) for i,v in zip(numsList, strsList)]"
   ]
  },
  {
   "cell_type": "code",
   "execution_count": 66,
   "metadata": {},
   "outputs": [
    {
     "data": {
      "text/plain": [
       "<zip at 0x7f877d26ba40>"
      ]
     },
     "execution_count": 66,
     "metadata": {},
     "output_type": "execute_result"
    }
   ],
   "source": [
    "zip(numsList,strsList)"
   ]
  },
  {
   "cell_type": "markdown",
   "metadata": {},
   "source": [
    "#### Using List Comprehension with Classes"
   ]
  },
  {
   "cell_type": "code",
   "execution_count": 55,
   "metadata": {},
   "outputs": [],
   "source": [
    "myNewDogs = [Dog(names[i], colors[i]) for i in range(len(names))]"
   ]
  },
  {
   "cell_type": "code",
   "execution_count": 87,
   "metadata": {},
   "outputs": [
    {
     "data": {
      "text/plain": [
       "[('Max', 'yellow'), ('Buddy', 'green'), ('Spot', 'pink'), ('Clifford', 'red')]"
      ]
     },
     "execution_count": 87,
     "metadata": {},
     "output_type": "execute_result"
    }
   ],
   "source": [
    "[(dog.name, dog.color) for dog in myNewDogs]"
   ]
  },
  {
   "cell_type": "code",
   "execution_count": 88,
   "metadata": {},
   "outputs": [
    {
     "data": {
      "text/plain": [
       "[('Max', 'yellow'), ('Buddy', 'green'), ('Spot', 'pink'), ('Clifford', 'red')]"
      ]
     },
     "execution_count": 88,
     "metadata": {},
     "output_type": "execute_result"
    }
   ],
   "source": [
    "list_2 = []\n",
    "for dog in myNewDogs:\n",
    "    list_2.append((dog.name, dog.color))\n",
    "    \n",
    "list_2"
   ]
  },
  {
   "cell_type": "markdown",
   "metadata": {},
   "source": [
    "#### In-Class Exercise #1 - Use List Comprehension to create multiple 'Dog' objects using the lists below... <br>\n",
    "<p>names = ['max', 'lassy', 'sammi']<br>colors=['brown', 'black', 'mix']</p>"
   ]
  },
  {
   "cell_type": "code",
   "execution_count": 73,
   "metadata": {},
   "outputs": [],
   "source": [
    "names = ['max', 'lassy', 'sammi']\n",
    "colors=['brown', 'black', 'mix']"
   ]
  },
  {
   "cell_type": "code",
   "execution_count": 85,
   "metadata": {},
   "outputs": [],
   "source": [
    "class Dog:\n",
    "    def __init__(self, name, color):\n",
    "        self.name = name.title()\n",
    "        self.color = color\n",
    "        \n",
    "    def __repr__(self):\n",
    "        return f\"<Dog: {self.name}>\""
   ]
  },
  {
   "cell_type": "code",
   "execution_count": 86,
   "metadata": {},
   "outputs": [
    {
     "data": {
      "text/plain": [
       "[<Dog: Max>, <Dog: Lassy>, <Dog: Sammi>]"
      ]
     },
     "execution_count": 86,
     "metadata": {},
     "output_type": "execute_result"
    }
   ],
   "source": [
    "result = [Dog(names[i], colors[i]) for i in range(len(names))]\n",
    "result"
   ]
  },
  {
   "cell_type": "code",
   "execution_count": null,
   "metadata": {},
   "outputs": [],
   "source": []
  },
  {
   "cell_type": "markdown",
   "metadata": {},
   "source": [
    "## Magic Methods (Dunder Methods, Special Methods) <br>\n",
    "<p>Magic methods (A.K.A. Dunder \"Double Underscore\" Methods) are any method that begins and ends with two underscores... You've already seen one of them in __init__(). Magic methods are the general functionality of an object, and you have the ability to overwrite what those methods do, giving you flexibility in your program.</p>"
   ]
  },
  {
   "cell_type": "markdown",
   "metadata": {},
   "source": [
    "#### \\__str\\__ <br>\n",
    "<p>This is the output of an object when you print the object itself.</p>"
   ]
  },
  {
   "cell_type": "code",
   "execution_count": 126,
   "metadata": {},
   "outputs": [],
   "source": [
    "class Car:\n",
    "    # Constructor method\n",
    "    def __init__(self, make, model, year):\n",
    "        self.make = make\n",
    "        self.model = model\n",
    "        self.year = year\n",
    "    # Special methods  \n",
    "    \n",
    "    def __repr__(self):\n",
    "        return f\"<Car: {self.year} {self.make} {self.model}>\"\n",
    "    \n",
    "    def __str__(self):\n",
    "        return f\"Year: {self.year}\\nMake: {self.make} \\nModel: {self.model}\"\n",
    "    \n",
    "    def __eq__(self, params):\n",
    "        return \"Nothin equals anything\"\n",
    "    \n",
    "    \n",
    "    "
   ]
  },
  {
   "cell_type": "code",
   "execution_count": 127,
   "metadata": {},
   "outputs": [],
   "source": [
    "car1 = Car(\"Chevrolet\", \"Tahoe\", 2019)"
   ]
  },
  {
   "cell_type": "code",
   "execution_count": 128,
   "metadata": {},
   "outputs": [
    {
     "name": "stdout",
     "output_type": "stream",
     "text": [
      "Year: 2019\n",
      "Make: Chevrolet \n",
      "Model: Tahoe\n"
     ]
    }
   ],
   "source": [
    "print(car1)"
   ]
  },
  {
   "cell_type": "code",
   "execution_count": null,
   "metadata": {},
   "outputs": [],
   "source": []
  },
  {
   "cell_type": "markdown",
   "metadata": {},
   "source": [
    "#### \\__repr\\__"
   ]
  },
  {
   "cell_type": "code",
   "execution_count": null,
   "metadata": {},
   "outputs": [],
   "source": []
  },
  {
   "cell_type": "markdown",
   "metadata": {},
   "source": [
    "#### Overriding Magic Methods"
   ]
  },
  {
   "cell_type": "code",
   "execution_count": 129,
   "metadata": {},
   "outputs": [],
   "source": [
    "car2 = Car(\"Chevrolet\", \"Tahoe\", 2019)"
   ]
  },
  {
   "cell_type": "code",
   "execution_count": 131,
   "metadata": {},
   "outputs": [
    {
     "data": {
      "text/plain": [
       "'Nothin equals anything'"
      ]
     },
     "execution_count": 131,
     "metadata": {},
     "output_type": "execute_result"
    }
   ],
   "source": [
    "car1 == \"hello\""
   ]
  },
  {
   "cell_type": "markdown",
   "metadata": {},
   "source": [
    "#### In-Class Exercise #2 - Google another magic method and overwrite it's functionality..."
   ]
  },
  {
   "cell_type": "code",
   "execution_count": null,
   "metadata": {},
   "outputs": [],
   "source": []
  },
  {
   "cell_type": "markdown",
   "metadata": {},
   "source": [
    "## Inheritance & Method Overriding (recap)"
   ]
  },
  {
   "cell_type": "markdown",
   "metadata": {},
   "source": [
    "#### Inheriting (recap)"
   ]
  },
  {
   "cell_type": "code",
   "execution_count": 132,
   "metadata": {},
   "outputs": [],
   "source": [
    "class Car(): # parent class\n",
    "    def __init__(self, wheels, color): # initialization logic\n",
    "        self.wheels = wheels\n",
    "        self.color = color.capitalize()\n",
    "        \n",
    "    def __str__(self):\n",
    "        return f'This car has {self.wheels} wheels and is {self.color}'\n",
    "    \n",
    "class Subaru(Car): # child class\n",
    "    def __init__(self, wheels, color, make, model, year): # initializing old & new attributes\n",
    "        super().__init__(wheels, color) # inherits ONLY old attributes\n",
    "        self.make = make # new attr\n",
    "        self.model = model # new attr\n",
    "        self.year = year # new attr\n",
    "        \n",
    "    def __str__(self):\n",
    "        return f'{self.color} {self.year} {self.make} {self.model} with {self.wheels} wheels'"
   ]
  },
  {
   "cell_type": "code",
   "execution_count": 133,
   "metadata": {},
   "outputs": [
    {
     "name": "stdout",
     "output_type": "stream",
     "text": [
      "This car has 4 wheels and is Yellow\n"
     ]
    }
   ],
   "source": [
    "myCar = Car(4, \"yellow\")\n",
    "print(myCar)"
   ]
  },
  {
   "cell_type": "code",
   "execution_count": 135,
   "metadata": {},
   "outputs": [
    {
     "name": "stdout",
     "output_type": "stream",
     "text": [
      "Black 2019 Subaru Impreza with 4 wheels\n"
     ]
    }
   ],
   "source": [
    "myOtherCar = Subaru(4, \"black\", \"Subaru\", \"Impreza\", 2019)\n",
    "print(myOtherCar)"
   ]
  },
  {
   "cell_type": "code",
   "execution_count": null,
   "metadata": {},
   "outputs": [],
   "source": []
  },
  {
   "cell_type": "code",
   "execution_count": null,
   "metadata": {},
   "outputs": [],
   "source": []
  },
  {
   "cell_type": "code",
   "execution_count": null,
   "metadata": {},
   "outputs": [],
   "source": []
  },
  {
   "cell_type": "markdown",
   "metadata": {},
   "source": [
    "#### Overriding Inherited Magic Methods"
   ]
  },
  {
   "cell_type": "code",
   "execution_count": null,
   "metadata": {},
   "outputs": [],
   "source": []
  },
  {
   "cell_type": "markdown",
   "metadata": {},
   "source": [
    "#### Inheriting Multiple Classes"
   ]
  },
  {
   "cell_type": "code",
   "execution_count": 172,
   "metadata": {},
   "outputs": [],
   "source": [
    "class Car(): # parent class\n",
    "    def __init__(self, wheels, color): # initialization logic\n",
    "        self.wheels = wheels\n",
    "        self.color = color.capitalize()\n",
    "        \n",
    "    def __str__(self):\n",
    "        return f'This car has {self.wheels} wheels and is {self.color}'\n",
    "    \n",
    "    def speed(self):\n",
    "        return 'Fast'\n",
    "    \n",
    "    def test(self):\n",
    "        return True\n",
    "\n",
    "class Engine():\n",
    "    def __init__(self, size):\n",
    "        self.size = size\n",
    "        \n",
    "    def speed(self):\n",
    "        if int(self.size[0]) <= 4:\n",
    "            return 'Small Engine'\n",
    "        else:\n",
    "            return 'Big Engine'\n",
    "    \n",
    "class Subaru(Car,Engine): # child class\n",
    "    def __init__(self, wheels, color, size, make, model, year): \n",
    "        Car.__init__(self, wheels, color) \n",
    "        Engine.__init__(self, size)\n",
    "        self.make = make \n",
    "        self.model = model \n",
    "        self.year = year\n",
    "        \n",
    "    def __str__(self):\n",
    "        return f'{self.color} {self.year} {self.make} {self.model} with {self.wheels} wheels and a {self.size} sized engine.'\n",
    "    "
   ]
  },
  {
   "cell_type": "code",
   "execution_count": 173,
   "metadata": {},
   "outputs": [
    {
     "name": "stdout",
     "output_type": "stream",
     "text": [
      "Blue 2020 Subaru Impreza with 4 wheels and a 5.2L sized engine.\n"
     ]
    }
   ],
   "source": [
    "myNewCar = Subaru(4, 'blue', '5.2L', 'Subaru', 'Impreza', 2020)\n",
    "print(myNewCar)"
   ]
  },
  {
   "cell_type": "code",
   "execution_count": 174,
   "metadata": {},
   "outputs": [
    {
     "data": {
      "text/plain": [
       "'Fast'"
      ]
     },
     "execution_count": 174,
     "metadata": {},
     "output_type": "execute_result"
    }
   ],
   "source": [
    "myNewCar.speed()"
   ]
  },
  {
   "cell_type": "code",
   "execution_count": 175,
   "metadata": {},
   "outputs": [
    {
     "name": "stdout",
     "output_type": "stream",
     "text": [
      "Help on Subaru in module __main__ object:\n",
      "\n",
      "class Subaru(Car, Engine)\n",
      " |  Subaru(wheels, color, size, make, model, year)\n",
      " |  \n",
      " |  Method resolution order:\n",
      " |      Subaru\n",
      " |      Car\n",
      " |      Engine\n",
      " |      builtins.object\n",
      " |  \n",
      " |  Methods defined here:\n",
      " |  \n",
      " |  __init__(self, wheels, color, size, make, model, year)\n",
      " |      Initialize self.  See help(type(self)) for accurate signature.\n",
      " |  \n",
      " |  __str__(self)\n",
      " |      Return str(self).\n",
      " |  \n",
      " |  ----------------------------------------------------------------------\n",
      " |  Methods inherited from Car:\n",
      " |  \n",
      " |  speed(self)\n",
      " |  \n",
      " |  test(self)\n",
      " |  \n",
      " |  ----------------------------------------------------------------------\n",
      " |  Data descriptors inherited from Car:\n",
      " |  \n",
      " |  __dict__\n",
      " |      dictionary for instance variables (if defined)\n",
      " |  \n",
      " |  __weakref__\n",
      " |      list of weak references to the object (if defined)\n",
      "\n"
     ]
    }
   ],
   "source": [
    "help(myNewCar)"
   ]
  },
  {
   "cell_type": "markdown",
   "metadata": {},
   "source": [
    "#### In-Class Exercise #3 - Create a transportation class, a physics class, and a bus class <br>\n",
    "<p>Create a transportation class, a physics class, and a bus class... Have the Bus class inherit both the transportation class and physics class. The physics class should have an attribute of speed, and print out the speed, plus have an acceleration method. The transportation class should have a type attribute, and print the type of transportation that is being used. The bus class should have attributes that describe the bus, such as; wheels, color, size, etc. Overwrite the __str__ method so that when you print the object itself it prints out the bus information, and the speed.</p>"
   ]
  },
  {
   "cell_type": "code",
   "execution_count": null,
   "metadata": {},
   "outputs": [],
   "source": []
  }
 ],
 "metadata": {
  "kernelspec": {
   "display_name": "Python 3",
   "language": "python",
   "name": "python3"
  },
  "language_info": {
   "codemirror_mode": {
    "name": "ipython",
    "version": 3
   },
   "file_extension": ".py",
   "mimetype": "text/x-python",
   "name": "python",
   "nbconvert_exporter": "python",
   "pygments_lexer": "ipython3",
   "version": "3.8.3"
  }
 },
 "nbformat": 4,
 "nbformat_minor": 2
}
